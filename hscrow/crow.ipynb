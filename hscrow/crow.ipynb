{
 "cells": [
  {
   "cell_type": "code",
   "execution_count": 10,
   "metadata": {},
   "outputs": [],
   "source": [
    "import requests\n",
    "from bs4 import BeautifulSoup\n",
    "from PIL import Image\n",
    "import os\n",
    "import datetime\n",
    "import uuid\n",
    "import time\n",
    "import base64\n",
    "import json"
   ]
  },
  {
   "cell_type": "code",
   "execution_count": 11,
   "metadata": {},
   "outputs": [
    {
     "name": "stderr",
     "output_type": "stream",
     "text": [
      "C:\\Users\\h\\AppData\\Local\\Packages\\PythonSoftwareFoundation.Python.3.10_qbz5n2kfra8p0\\LocalCache\\local-packages\\Python310\\site-packages\\urllib3\\connectionpool.py:1045: InsecureRequestWarning: Unverified HTTPS request is being made to host 'www.hs.ac.kr'. Adding certificate verification is strongly advised. See: https://urllib3.readthedocs.io/en/1.26.x/advanced-usage.html#ssl-warnings\n",
      "  warnings.warn(\n",
      "C:\\Users\\h\\AppData\\Local\\Packages\\PythonSoftwareFoundation.Python.3.10_qbz5n2kfra8p0\\LocalCache\\local-packages\\Python310\\site-packages\\urllib3\\connectionpool.py:1045: InsecureRequestWarning: Unverified HTTPS request is being made to host 'www.hs.ac.kr'. Adding certificate verification is strongly advised. See: https://urllib3.readthedocs.io/en/1.26.x/advanced-usage.html#ssl-warnings\n",
      "  warnings.warn(\n"
     ]
    },
    {
     "name": "stdout",
     "output_type": "stream",
     "text": [
      "raw.jpeg\n"
     ]
    },
    {
     "name": "stderr",
     "output_type": "stream",
     "text": [
      "C:\\Users\\h\\AppData\\Local\\Packages\\PythonSoftwareFoundation.Python.3.10_qbz5n2kfra8p0\\LocalCache\\local-packages\\Python310\\site-packages\\urllib3\\connectionpool.py:1045: InsecureRequestWarning: Unverified HTTPS request is being made to host 'www.hs.ac.kr'. Adding certificate verification is strongly advised. See: https://urllib3.readthedocs.io/en/1.26.x/advanced-usage.html#ssl-warnings\n",
      "  warnings.warn(\n"
     ]
    }
   ],
   "source": [
    "#최신글 링크 가져오기\n",
    "import requests\n",
    "from bs4 import BeautifulSoup\n",
    "url = \"https://www.hs.ac.kr/kor/8398/subview.do\"\n",
    "res = requests.get(url, verify=False)\n",
    "res.raise_for_status()\n",
    "soup = BeautifulSoup(res.text, \"html.parser\")\n",
    "link = soup.find(attrs={\"class\":\"artclLinkView\"})\n",
    "url2='https://www.hs.ac.kr%s'%link[\"href\"]\n",
    "\n",
    "#이미지 크롤링\n",
    "html=requests.get(url2, verify=False).text\n",
    "soup=BeautifulSoup(html,'html.parser')\n",
    "img=soup.select('img')\n",
    "\n",
    "#이미지 저장\n",
    "for i in img:\n",
    "    img_url=i['src']\n",
    "    img_name='raw.jpeg'\n",
    "    img_data=requests.get(img_url, verify=False).content\n",
    "    with open(img_name, 'wb') as f:\n",
    "        f.write(img_data)\n",
    "    print(img_name)\n",
    "    \n"
   ]
  },
  {
   "cell_type": "code",
   "execution_count": 12,
   "metadata": {},
   "outputs": [],
   "source": [
    "#이미지 자르기\n",
    "from PIL import Image\n",
    "import os\n",
    "import datetime\n",
    "now = datetime.datetime.now() #현재날짜 가져오기\n",
    "nowDay = now.strftime('%A') #요일\n",
    "img=Image.open('raw.jpeg') #이미지 열기\n",
    "if nowDay == 'Saturday' or 'Sunday' or 'Monday': #토요일, 일요일, 월요일이면\n",
    "    jeongsik=img.crop((100,120,260,260)) #월요일 정식 이미지 자르기\n",
    "    jeongsik.save('jeongsik.jpeg') #저장하기\n",
    "    ilsik=img.crop((100,260,260,380)) \n",
    "    ilsik.save('ilsik.jpeg')\n",
    "    seogsik=img.crop((100,380,260,500))\n",
    "    seogsik.save('seogsik.jpeg')\n",
    "elif nowDay == 'Tuesday':\n",
    "    jeongsik=img.crop((260,120,420,260))\n",
    "    jeongsik.save('jeongsik.jpeg')\n",
    "    ilsik=img.crop((260,260,420,380))\n",
    "    ilsik.save('ilsik.jpeg')\n",
    "    seogsik=img.crop((260,380,420,500))\n",
    "    seogsik.save('seogsik.jpeg')\n",
    "elif nowDay == 'Wednesday':\n",
    "    jeongsik=img.crop((420,120,580,260))\n",
    "    jeongsik.save('jeongsik.jpeg')\n",
    "    ilsik=img.crop((420,260,580,380))\n",
    "    ilsik.save('ilsik.jpeg')\n",
    "    seogsik=img.crop((420,380,580,500))\n",
    "    seogsik.save('seogsik.jpeg')\n",
    "elif nowDay == 'Thursday':\n",
    "    jeongsik=img.crop((580,120,740,260))\n",
    "    jeongsik.save('jeongsik.jpeg')\n",
    "    ilsik=img.crop((580,260,740,380))\n",
    "    ilsik.save('ilsik.jpeg')\n",
    "    seogsik=img.crop((580,380,740,500))\n",
    "    seogsik.save('seogsik.jpeg')\n",
    "else:\n",
    "    ilsik=img.crop((740,260,893,380))\n",
    "    ilsik.save('ilsik.jpeg')\n",
    "    \n",
    "##잘린 이미지 해상도 확인\n",
    "#print(img.size)"
   ]
  },
  {
   "cell_type": "code",
   "execution_count": 13,
   "metadata": {},
   "outputs": [
    {
     "name": "stdout",
     "output_type": "stream",
     "text": [
      "{'version': 'V2', 'requestId': 'fb27dad4-f8b7-4656-a3cd-d627c19ce3c3', 'timestamp': 1667146017732, 'images': [{'uid': 'cc80591627c74fb187d06f05e4eae962', 'name': 'demo', 'inferResult': 'SUCCESS', 'message': 'SUCCESS', 'validationResult': {'result': 'NO_REQUESTED'}, 'convertedImageInfo': {'width': 160, 'height': 140, 'pageIndex': 0, 'longImage': False}, 'fields': [{'valueType': 'ALL', 'boundingPoly': {'vertices': [{'x': 5.0, 'y': 4.0}, {'x': 157.0, 'y': 4.0}, {'x': 157.0, 'y': 16.0}, {'x': 5.0, 'y': 16.0}]}, 'inferText': '돼지불백&5면사리(돈:미주산)', 'inferConfidence': 0.9488, 'type': 'NORMAL', 'lineBreak': True}, {'valueType': 'ALL', 'boundingPoly': {'vertices': [{'x': 62.0, 'y': 26.0}, {'x': 100.0, 'y': 27.0}, {'x': 100.0, 'y': 41.0}, {'x': 61.0, 'y': 40.0}]}, 'inferText': '백미밥', 'inferConfidence': 0.9996, 'type': 'NORMAL', 'lineBreak': True}, {'valueType': 'ALL', 'boundingPoly': {'vertices': [{'x': 24.0, 'y': 50.0}, {'x': 138.0, 'y': 50.0}, {'x': 138.0, 'y': 65.0}, {'x': 24.0, 'y': 65.0}]}, 'inferText': '두부조림(콩:수입산)', 'inferConfidence': 0.9999, 'type': 'NORMAL', 'lineBreak': True}, {'valueType': 'ALL', 'boundingPoly': {'vertices': [{'x': 49.0, 'y': 74.0}, {'x': 111.0, 'y': 74.0}, {'x': 111.0, 'y': 88.0}, {'x': 49.0, 'y': 88.0}]}, 'inferText': '건파래볶음', 'inferConfidence': 0.9995, 'type': 'NORMAL', 'lineBreak': True}, {'valueType': 'ALL', 'boundingPoly': {'vertices': [{'x': 50.0, 'y': 98.0}, {'x': 110.0, 'y': 98.0}, {'x': 110.0, 'y': 113.0}, {'x': 50.0, 'y': 113.0}]}, 'inferText': '콩나물무침', 'inferConfidence': 1.0, 'type': 'NORMAL', 'lineBreak': True}, {'valueType': 'ALL', 'boundingPoly': {'vertices': [{'x': 56.0, 'y': 123.0}, {'x': 104.0, 'y': 123.0}, {'x': 103.0, 'y': 136.0}, {'x': 56.0, 'y': 135.0}]}, 'inferText': '포기김치', 'inferConfidence': 1.0, 'type': 'NORMAL', 'lineBreak': True}]}]}\n"
     ]
    }
   ],
   "source": [
    "import requests\n",
    "import uuid\n",
    "import time\n",
    "import base64\n",
    "import json\n",
    "#네이버 ocr api\n",
    "api_url = 'https://3jzf29xvj8.apigw.ntruss.com/custom/v1/18928/780f86745746934c7b4b0421ceb9d2be1d38468084a9b74ae13668c20099e828/general'\n",
    "secret_key = 'dVpSTU1mV1ZJS0hMWmt0dEdqZldwWUJBYVl6UEpGRVA='\n",
    "image_file = 'jeongsik.jpeg'\n",
    "output_file = 'jeongsik.json'\n",
    "\n",
    "request_json = {\n",
    "    'images': [\n",
    "        {\n",
    "            'format': 'jpg',\n",
    "            'name': 'demo'\n",
    "        }\n",
    "    ],\n",
    "    'requestId': str(uuid.uuid4()),\n",
    "    'version': 'V2',\n",
    "    'timestamp': int(round(time.time() * 1000))\n",
    "}\n",
    "\n",
    "payload = {'message': json.dumps(request_json).encode('UTF-8')}\n",
    "files = [\n",
    "  ('file', open(image_file,'rb'))\n",
    "]\n",
    "headers = {\n",
    "  'X-OCR-SECRET': secret_key\n",
    "}\n",
    "\n",
    "response = requests.request(\"POST\", api_url, headers=headers, data = payload, files = files)\n",
    "#print(response.text.encode('utf8'))\n",
    "res = json.loads(response.text.encode('utf8'))\n",
    "print(res)\n",
    "with open(output_file, 'w', encoding='utf-8') as outfile:\n",
    "    json.dump(res, outfile, indent=4, ensure_ascii=False)"
   ]
  },
  {
   "cell_type": "code",
   "execution_count": 14,
   "metadata": {},
   "outputs": [
    {
     "name": "stdout",
     "output_type": "stream",
     "text": [
      "{'version': 'V2', 'requestId': 'f27c6e8c-facb-4915-a27e-044f36da3b40', 'timestamp': 1667146018792, 'images': [{'uid': '7eacc4a16fbb41228ce4c7e07ab41474', 'name': 'demo', 'inferResult': 'SUCCESS', 'message': 'SUCCESS', 'validationResult': {'result': 'NO_REQUESTED'}, 'convertedImageInfo': {'width': 160, 'height': 120, 'pageIndex': 0, 'longImage': False}, 'fields': [{'valueType': 'ALL', 'boundingPoly': {'vertices': [{'x': 3.0, 'y': 8.0}, {'x': 158.0, 'y': 8.0}, {'x': 158.0, 'y': 20.0}, {'x': 3.0, 'y': 19.0}]}, 'inferText': '(즉석)치즈닭도리아(당:국내산)', 'inferConfidence': 0.8864, 'type': 'NORMAL', 'lineBreak': True}, {'valueType': 'ALL', 'boundingPoly': {'vertices': [{'x': 50.0, 'y': 31.0}, {'x': 111.0, 'y': 31.0}, {'x': 111.0, 'y': 45.0}, {'x': 50.0, 'y': 45.0}]}, 'inferText': '미니냉모밀', 'inferConfidence': 0.995, 'type': 'NORMAL', 'lineBreak': True}, {'valueType': 'ALL', 'boundingPoly': {'vertices': [{'x': 55.0, 'y': 54.0}, {'x': 105.0, 'y': 54.0}, {'x': 105.0, 'y': 69.0}, {'x': 55.0, 'y': 69.0}]}, 'inferText': '만두탕수', 'inferConfidence': 1.0, 'type': 'NORMAL', 'lineBreak': True}, {'valueType': 'ALL', 'boundingPoly': {'vertices': [{'x': 56.0, 'y': 78.0}, {'x': 105.0, 'y': 79.0}, {'x': 105.0, 'y': 93.0}, {'x': 56.0, 'y': 92.0}]}, 'inferText': '콘샐러드', 'inferConfidence': 1.0, 'type': 'NORMAL', 'lineBreak': True}, {'valueType': 'ALL', 'boundingPoly': {'vertices': [{'x': 56.0, 'y': 103.0}, {'x': 103.0, 'y': 103.0}, {'x': 103.0, 'y': 116.0}, {'x': 56.0, 'y': 115.0}]}, 'inferText': '포기김치', 'inferConfidence': 1.0, 'type': 'NORMAL', 'lineBreak': True}]}]}\n"
     ]
    }
   ],
   "source": [
    "import requests\n",
    "import uuid\n",
    "import time\n",
    "import base64\n",
    "import json\n",
    "\n",
    "api_url = 'https://3jzf29xvj8.apigw.ntruss.com/custom/v1/18928/780f86745746934c7b4b0421ceb9d2be1d38468084a9b74ae13668c20099e828/general'\n",
    "secret_key = 'dVpSTU1mV1ZJS0hMWmt0dEdqZldwWUJBYVl6UEpGRVA='\n",
    "image_file = 'ilsik.jpeg'\n",
    "output_file = 'ilsik.json'\n",
    "\n",
    "request_json = {\n",
    "    'images': [\n",
    "        {\n",
    "            'format': 'jpg',\n",
    "            'name': 'demo'\n",
    "        }\n",
    "    ],\n",
    "    'requestId': str(uuid.uuid4()),\n",
    "    'version': 'V2',\n",
    "    'timestamp': int(round(time.time() * 1000))\n",
    "}\n",
    "\n",
    "payload = {'message': json.dumps(request_json).encode('UTF-8')}\n",
    "files = [\n",
    "  ('file', open(image_file,'rb'))\n",
    "]\n",
    "headers = {\n",
    "  'X-OCR-SECRET': secret_key\n",
    "}\n",
    "\n",
    "response = requests.request(\"POST\", api_url, headers=headers, data = payload, files = files)\n",
    "#print(response.text.encode('utf8'))\n",
    "res = json.loads(response.text.encode('utf8'))\n",
    "print(res)\n",
    "with open(output_file, 'w', encoding='utf-8') as outfile:\n",
    "    json.dump(res, outfile, indent=4, ensure_ascii=False)"
   ]
  },
  {
   "cell_type": "code",
   "execution_count": 15,
   "metadata": {},
   "outputs": [
    {
     "name": "stdout",
     "output_type": "stream",
     "text": [
      "{'version': 'V2', 'requestId': '02cafb65-a52a-47c8-a5a1-99d791d40af2', 'timestamp': 1667146019996, 'images': [{'uid': 'f4d4f752154543b2a48bea16c7ce7dff', 'name': 'demo', 'inferResult': 'SUCCESS', 'message': 'SUCCESS', 'validationResult': {'result': 'NO_REQUESTED'}, 'convertedImageInfo': {'width': 160, 'height': 120, 'pageIndex': 0, 'longImage': False}, 'fields': [{'valueType': 'ALL', 'boundingPoly': {'vertices': [{'x': 56.0, 'y': 7.0}, {'x': 105.0, 'y': 7.0}, {'x': 105.0, 'y': 20.0}, {'x': 56.0, 'y': 20.0}]}, 'inferText': '잔치국수', 'inferConfidence': 1.0, 'type': 'NORMAL', 'lineBreak': True}, {'valueType': 'ALL', 'boundingPoly': {'vertices': [{'x': 32.0, 'y': 29.0}, {'x': 130.0, 'y': 31.0}, {'x': 130.0, 'y': 45.0}, {'x': 32.0, 'y': 44.0}]}, 'inferText': '야채김가루주먹밥', 'inferConfidence': 0.9999, 'type': 'NORMAL', 'lineBreak': True}, {'valueType': 'ALL', 'boundingPoly': {'vertices': [{'x': 6.0, 'y': 54.0}, {'x': 156.0, 'y': 54.0}, {'x': 156.0, 'y': 69.0}, {'x': 6.0, 'y': 69.0}]}, 'inferText': '수제맛쵸치킨(닭:국내산)', 'inferConfidence': 0.9979, 'type': 'NORMAL', 'lineBreak': True}, {'valueType': 'ALL', 'boundingPoly': {'vertices': [{'x': 62.0, 'y': 79.0}, {'x': 98.0, 'y': 79.0}, {'x': 98.0, 'y': 92.0}, {'x': 62.0, 'y': 92.0}]}, 'inferText': '단무지', 'inferConfidence': 0.9999, 'type': 'NORMAL', 'lineBreak': True}, {'valueType': 'ALL', 'boundingPoly': {'vertices': [{'x': 56.0, 'y': 103.0}, {'x': 103.0, 'y': 104.0}, {'x': 103.0, 'y': 116.0}, {'x': 56.0, 'y': 115.0}]}, 'inferText': '포기김치', 'inferConfidence': 1.0, 'type': 'NORMAL', 'lineBreak': True}]}]}\n"
     ]
    }
   ],
   "source": [
    "import requests\n",
    "import uuid\n",
    "import time\n",
    "import base64\n",
    "import json\n",
    "\n",
    "api_url = 'https://3jzf29xvj8.apigw.ntruss.com/custom/v1/18928/780f86745746934c7b4b0421ceb9d2be1d38468084a9b74ae13668c20099e828/general'\n",
    "secret_key = 'dVpSTU1mV1ZJS0hMWmt0dEdqZldwWUJBYVl6UEpGRVA='\n",
    "image_file = 'seogsik.jpeg'\n",
    "output_file = 'seogsik.json'\n",
    "\n",
    "request_json = {\n",
    "    'images': [\n",
    "        {\n",
    "            'format': 'jpg',\n",
    "            'name': 'demo'\n",
    "        }\n",
    "    ],\n",
    "    'requestId': str(uuid.uuid4()),\n",
    "    'version': 'V2',\n",
    "    'timestamp': int(round(time.time() * 1000))\n",
    "}\n",
    "\n",
    "payload = {'message': json.dumps(request_json).encode('UTF-8')}\n",
    "files = [\n",
    "  ('file', open(image_file,'rb'))\n",
    "]\n",
    "headers = {\n",
    "  'X-OCR-SECRET': secret_key\n",
    "}\n",
    "\n",
    "response = requests.request(\"POST\", api_url, headers=headers, data = payload, files = files)\n",
    "#print(response.text.encode('utf8'))\n",
    "res = json.loads(response.text.encode('utf8'))\n",
    "print(res)\n",
    "with open(output_file, 'w', encoding='utf-8') as outfile:\n",
    "    json.dump(res, outfile, indent=4, ensure_ascii=False)"
   ]
  },
  {
   "cell_type": "code",
   "execution_count": 16,
   "metadata": {},
   "outputs": [
    {
     "name": "stdout",
     "output_type": "stream",
     "text": [
      "돼지불백&5면사리(돈:미주산), 백미밥, 두부조림(콩:수입산), 건파래볶음, 콩나물무침, 포기김치\n",
      "(즉석)치즈닭도리아(당:국내산), 미니냉모밀, 만두탕수, 콘샐러드, 포기김치\n",
      "잔치국수, 야채김가루주먹밥, 수제맛쵸치킨(닭:국내산), 단무지, 포기김치\n"
     ]
    }
   ],
   "source": [
    "#jeongsik.json의 모든 inferText를 리스트에 저장\n",
    "import json\n",
    "with open('jeongsik.json', 'r', encoding='utf-8') as f:\n",
    "    jeongsik = json.load(f)\n",
    "jeongsik_list = []\n",
    "for i in range(len(jeongsik['images'][0]['fields'])):\n",
    "    jeongsik_list.append(jeongsik['images'][0]['fields'][i]['inferText'])\n",
    "#하나로 묶어서 문자열로 저장\n",
    "jeongsik_str = ', '.join(jeongsik_list)\n",
    "print(jeongsik_str)\n",
    "#ilsik.json의 모든 inferText를 리스트에 저장\n",
    "with open('ilsik.json', 'r', encoding='utf-8') as f:\n",
    "    ilsik = json.load(f)\n",
    "ilsik_list = []\n",
    "for i in range(len(ilsik['images'][0]['fields'])):\n",
    "    ilsik_list.append(ilsik['images'][0]['fields'][i]['inferText'])\n",
    "ilsik_str = ', '.join(ilsik_list)\n",
    "print(ilsik_str)\n",
    "#seogsik.json의 모든 inferText를 리스트에 저장\n",
    "with open('seogsik.json', 'r', encoding='utf-8') as f:\n",
    "    seogsik = json.load(f)\n",
    "seogsik_list = []\n",
    "for i in range(len(seogsik['images'][0]['fields'])):\n",
    "    seogsik_list.append(seogsik['images'][0]['fields'][i]['inferText'])\n",
    "seogsik_str = ', '.join(seogsik_list)\n",
    "print(seogsik_str)\n"
   ]
  }
 ],
 "metadata": {
  "kernelspec": {
   "display_name": "Python 3.10.8 64-bit (microsoft store)",
   "language": "python",
   "name": "python3"
  },
  "language_info": {
   "codemirror_mode": {
    "name": "ipython",
    "version": 3
   },
   "file_extension": ".py",
   "mimetype": "text/x-python",
   "name": "python",
   "nbconvert_exporter": "python",
   "pygments_lexer": "ipython3",
   "version": "3.10.8"
  },
  "orig_nbformat": 4,
  "vscode": {
   "interpreter": {
    "hash": "7adf86b6bee717ec551346b7cba6af0c5bfe1af0b0739adffaf679dbc7b2cc05"
   }
  }
 },
 "nbformat": 4,
 "nbformat_minor": 2
}
